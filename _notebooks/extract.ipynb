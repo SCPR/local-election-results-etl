{
 "cells": [
  {
   "cell_type": "code",
   "execution_count": 1,
   "id": "be9c1919-1323-4417-9d0a-1122c7723f3d",
   "metadata": {},
   "outputs": [],
   "source": [
    "import pathlib"
   ]
  },
  {
   "cell_type": "code",
   "execution_count": 39,
   "id": "784b45eb-7e17-469a-95ed-5cfe8b57a9c4",
   "metadata": {},
   "outputs": [],
   "source": [
    "import pdfplumber\n",
    "import pandas as pd"
   ]
  },
  {
   "cell_type": "code",
   "execution_count": 5,
   "id": "70935039-b9f2-40ee-af7e-74b313031eda",
   "metadata": {},
   "outputs": [],
   "source": [
    "pdf_path = pathlib.Path(\"./input\") / \"11082022_final-list-of-qualified-candidates-to-appear-on-ballot.pdf\""
   ]
  },
  {
   "cell_type": "code",
   "execution_count": 7,
   "id": "0e8038cc-fca3-466a-9588-e3e64310bd9d",
   "metadata": {},
   "outputs": [],
   "source": [
    "pdf = pdfplumber.open(pdf_path)"
   ]
  },
  {
   "cell_type": "code",
   "execution_count": 56,
   "id": "2c4e1366-8925-4193-98ec-e1f46333bf19",
   "metadata": {},
   "outputs": [],
   "source": [
    "def extract_contest(table_list):\n",
    "    for table in table_list:\n",
    "        if table[0] != \"CONTEST\" and not table[0].startswith(\"TOTAL CANDIDATES\"):\n",
    "            contest_id, contest_name = table[0].split(\"-\", 1)\n",
    "            return {\n",
    "                \"raw_id\": contest_id,\n",
    "                \"raw_name\": contest_name.strip().replace(\"\\n\", \"\"),\n",
    "                \"include\": \"Yes\",\n",
    "            }\n",
    "    return None"
   ]
  },
  {
   "cell_type": "code",
   "execution_count": 57,
   "id": "f73c6d03-d47d-435f-a200-46d48bcf79a4",
   "metadata": {},
   "outputs": [],
   "source": [
    "contest_list = []\n",
    "for page in pdf.pages:\n",
    "    for table in page.extract_tables():\n",
    "        contest = extract_contest(table)\n",
    "        if contest:\n",
    "            contest_list.append(contest)"
   ]
  },
  {
   "cell_type": "code",
   "execution_count": 58,
   "id": "5d306712-7d44-4d09-a10b-407fc07e84c1",
   "metadata": {},
   "outputs": [],
   "source": [
    "df = pd.DataFrame(contest_list)"
   ]
  },
  {
   "cell_type": "code",
   "execution_count": 59,
   "id": "d252c8e9-8983-4926-8377-131d3dbf2b05",
   "metadata": {},
   "outputs": [
    {
     "data": {
      "text/html": [
       "<div>\n",
       "<style scoped>\n",
       "    .dataframe tbody tr th:only-of-type {\n",
       "        vertical-align: middle;\n",
       "    }\n",
       "\n",
       "    .dataframe tbody tr th {\n",
       "        vertical-align: top;\n",
       "    }\n",
       "\n",
       "    .dataframe thead th {\n",
       "        text-align: right;\n",
       "    }\n",
       "</style>\n",
       "<table border=\"1\" class=\"dataframe\">\n",
       "  <thead>\n",
       "    <tr style=\"text-align: right;\">\n",
       "      <th></th>\n",
       "      <th>raw_id</th>\n",
       "      <th>raw_name</th>\n",
       "      <th>include</th>\n",
       "    </tr>\n",
       "  </thead>\n",
       "  <tbody>\n",
       "    <tr>\n",
       "      <th>0</th>\n",
       "      <td>8712</td>\n",
       "      <td>UNITED STATES SENATOR - Full Term</td>\n",
       "      <td>Yes</td>\n",
       "    </tr>\n",
       "    <tr>\n",
       "      <th>1</th>\n",
       "      <td>8780</td>\n",
       "      <td>UNITED STATES SENATOR - Short Term (Unexpired ...</td>\n",
       "      <td>Yes</td>\n",
       "    </tr>\n",
       "    <tr>\n",
       "      <th>2</th>\n",
       "      <td>8780</td>\n",
       "      <td>UNITED STATES SENATOR - Short Term (Unexpired ...</td>\n",
       "      <td>Yes</td>\n",
       "    </tr>\n",
       "    <tr>\n",
       "      <th>3</th>\n",
       "      <td>8745</td>\n",
       "      <td>UNITED STATES REPRESENTATIVE, 23rd District</td>\n",
       "      <td>Yes</td>\n",
       "    </tr>\n",
       "    <tr>\n",
       "      <th>4</th>\n",
       "      <td>8746</td>\n",
       "      <td>UNITED STATES REPRESENTATIVE, 26th District</td>\n",
       "      <td>Yes</td>\n",
       "    </tr>\n",
       "  </tbody>\n",
       "</table>\n",
       "</div>"
      ],
      "text/plain": [
       "  raw_id                                           raw_name include\n",
       "0   8712                  UNITED STATES SENATOR - Full Term     Yes\n",
       "1   8780  UNITED STATES SENATOR - Short Term (Unexpired ...     Yes\n",
       "2   8780  UNITED STATES SENATOR - Short Term (Unexpired ...     Yes\n",
       "3   8745        UNITED STATES REPRESENTATIVE, 23rd District     Yes\n",
       "4   8746        UNITED STATES REPRESENTATIVE, 26th District     Yes"
      ]
     },
     "execution_count": 59,
     "metadata": {},
     "output_type": "execute_result"
    }
   ],
   "source": [
    "df.head()"
   ]
  },
  {
   "cell_type": "code",
   "execution_count": 60,
   "id": "92c309af-420f-4285-ab7b-419d62003dfa",
   "metadata": {},
   "outputs": [
    {
     "name": "stdout",
     "output_type": "stream",
     "text": [
      "<class 'pandas.core.frame.DataFrame'>\n",
      "RangeIndex: 472 entries, 0 to 471\n",
      "Data columns (total 3 columns):\n",
      " #   Column    Non-Null Count  Dtype \n",
      "---  ------    --------------  ----- \n",
      " 0   raw_id    472 non-null    object\n",
      " 1   raw_name  472 non-null    object\n",
      " 2   include   472 non-null    object\n",
      "dtypes: object(3)\n",
      "memory usage: 11.2+ KB\n"
     ]
    }
   ],
   "source": [
    "df.info()"
   ]
  },
  {
   "cell_type": "code",
   "execution_count": 61,
   "id": "793903f8-b8d5-4bc6-8819-f887c4aa626a",
   "metadata": {},
   "outputs": [],
   "source": [
    "df.to_csv(\"./output/contests.csv\", index=False)"
   ]
  }
 ],
 "metadata": {
  "kernelspec": {
   "display_name": "Python 3 (ipykernel)",
   "language": "python",
   "name": "python3"
  },
  "language_info": {
   "codemirror_mode": {
    "name": "ipython",
    "version": 3
   },
   "file_extension": ".py",
   "mimetype": "text/x-python",
   "name": "python",
   "nbconvert_exporter": "python",
   "pygments_lexer": "ipython3",
   "version": "3.9.9"
  }
 },
 "nbformat": 4,
 "nbformat_minor": 5
}
