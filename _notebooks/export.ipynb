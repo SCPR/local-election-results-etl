{
 "cells": [
  {
   "cell_type": "code",
   "execution_count": 22,
   "id": "0b3ab7f5-1d63-4d5d-9704-451c13ac7ffc",
   "metadata": {},
   "outputs": [],
   "source": [
    "import json\n",
    "import pathlib\n",
    "import pandas as pd"
   ]
  },
  {
   "cell_type": "code",
   "execution_count": 28,
   "id": "e60a22bb-760c-45e3-aa54-95e1e541590a",
   "metadata": {},
   "outputs": [
    {
     "data": {
      "text/plain": [
       "'los_angeles_county'"
      ]
     },
     "execution_count": 28,
     "metadata": {},
     "output_type": "execute_result"
    }
   ],
   "source": [
    "str(pathlib.Path(\"../data/transformed/los_angeles_county/latest.json\").parent).split(\"/\")[-1]"
   ]
  },
  {
   "cell_type": "code",
   "execution_count": 16,
   "id": "159e5fe6-203a-465b-9cad-1a597934d47c",
   "metadata": {},
   "outputs": [],
   "source": [
    "data = json.load(open(\"../data/transformed/los_angeles_county/latest.json\"))"
   ]
  },
  {
   "cell_type": "code",
   "execution_count": 17,
   "id": "19e8b318-68e0-43c3-8e15-d92e72a24d41",
   "metadata": {},
   "outputs": [],
   "source": [
    "flat_list = []"
   ]
  },
  {
   "cell_type": "code",
   "execution_count": 18,
   "id": "e8051be0-093d-404b-b6cc-09c316a6a84a",
   "metadata": {},
   "outputs": [],
   "source": [
    "race_list = data.pop('races')"
   ]
  },
  {
   "cell_type": "code",
   "execution_count": 19,
   "id": "905d35ea-5b4b-400b-918e-a5c0d4a43e3a",
   "metadata": {},
   "outputs": [],
   "source": [
    "for race in race_list:\n",
    "    candidates = race.pop('candidates')\n",
    "    for cand in candidates:\n",
    "        cand.update(race)\n",
    "        cand.update(data)\n",
    "        flat_list.append(cand)"
   ]
  },
  {
   "cell_type": "code",
   "execution_count": 21,
   "id": "aedfcd78-ef21-4b9d-92d6-45e4fb2def6c",
   "metadata": {},
   "outputs": [],
   "source": [
    "df = pd.DataFrame(flat_list)"
   ]
  },
  {
   "cell_type": "code",
   "execution_count": null,
   "id": "4d6f09cd-2bdc-44b3-b60d-3e1bba0e4ff4",
   "metadata": {},
   "outputs": [],
   "source": [
    "df."
   ]
  }
 ],
 "metadata": {
  "kernelspec": {
   "display_name": "Python 3 (ipykernel)",
   "language": "python",
   "name": "python3"
  },
  "language_info": {
   "codemirror_mode": {
    "name": "ipython",
    "version": 3
   },
   "file_extension": ".py",
   "mimetype": "text/x-python",
   "name": "python",
   "nbconvert_exporter": "python",
   "pygments_lexer": "ipython3",
   "version": "3.9.9"
  }
 },
 "nbformat": 4,
 "nbformat_minor": 5
}
